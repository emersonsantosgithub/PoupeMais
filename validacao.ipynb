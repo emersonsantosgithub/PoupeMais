{
 "cells": [
  {
   "cell_type": "markdown",
   "id": "7142f980",
   "metadata": {},
   "source": [
    "## Etapa atual\n",
    "- **Validação da ideia**: criação de MVP manual para comparação de preços.  \n",
    "- **Criação de base inicial**: coletar dados de algumas notas fiscais ou produtos.  \n",
    "- **Objetivo desta etapa**: ter **uma base inicial de preços** para análises e comparativos.\n",
    "\n",
    "##  Estrutura para etapa atual\n",
    "1. Criar **script para raspar dados das notas fiscais**:  \n",
    "   - Extrair: produto, preço, mercado, data.  \n",
    "2. Alimentar **planilha ou banco de dados simples** (CSV / Google Sheets / SQLite).  \n",
    "3. Fazer **comparativo de preços iniciais** usando esses dados.  \n",
    "4. Validar se o MVP manual fornece resultados confiáveis antes de automatizar scraping de sites ou QR Codes.\n"
   ]
  },
  {
   "cell_type": "code",
   "execution_count": 6,
   "id": "0986e877",
   "metadata": {},
   "outputs": [],
   "source": [
    "import requests\n",
    "from bs4 import BeautifulSoup"
   ]
  },
  {
   "cell_type": "code",
   "execution_count": 21,
   "id": "114e43d0",
   "metadata": {},
   "outputs": [],
   "source": [
    "response = requests.get(\"https://www.nfce.fazenda.sp.gov.br/NFCeConsultaPublica/Paginas/ConsultaQRCode.aspx?p=35250944914620000101651020000029821102030260|2|1|1|7CEABA67901306C7669AF902F102EC944F682413\")\n",
    "\n",
    "html = response.text\n",
    "\n",
    "soup = BeautifulSoup(html, 'html.parser')"
   ]
  },
  {
   "cell_type": "code",
   "execution_count": 22,
   "id": "554b16a9",
   "metadata": {},
   "outputs": [],
   "source": [
    "paragrafos = soup.find_all('p')"
   ]
  },
  {
   "cell_type": "code",
   "execution_count": 28,
   "id": "603c0b1c",
   "metadata": {},
   "outputs": [],
   "source": [
    "div_id = soup.find('div', id='u20')"
   ]
  },
  {
   "cell_type": "code",
   "execution_count": 29,
   "id": "8e3a8880",
   "metadata": {},
   "outputs": [
    {
     "data": {
      "text/plain": [
       "<div class=\"txtTopo\" id=\"u20\">MERCADO JARDIM ZAIRA LTDA</div>"
      ]
     },
     "execution_count": 29,
     "metadata": {},
     "output_type": "execute_result"
    }
   ],
   "source": [
    "div_id"
   ]
  },
  {
   "cell_type": "code",
   "execution_count": 71,
   "id": "87cb9b52",
   "metadata": {},
   "outputs": [
    {
     "name": "stdout",
     "output_type": "stream",
     "text": [
      "[<span class=\"txtTit\">REQUEIJAO TIROLEZ  CREMOSO 200GR</span>, <span class=\"txtTit\">FP PAO LEITINHO KG</span>, <span class=\"txtTit\">CHIPA MINNAS KG</span>, <span class=\"txtTit\">FP PAO LEITE KG</span>, <span class=\"txtTit\">PAO QUEIJO SABOR  MINAS 1KG</span>, <span class=\"txtTit\">MORTADELA SEARA DEFUMADA KG BANDEJA</span>]\n"
     ]
    }
   ],
   "source": [
    "nome_produto = soup.find_all('span', class_='txtTit')\n",
    "\n",
    "print(nome_produto)"
   ]
  },
  {
   "cell_type": "code",
   "execution_count": 75,
   "id": "6b532723",
   "metadata": {},
   "outputs": [],
   "source": [
    "nomes_produtos = [p.get_text(strip=True) for p in nome_produto]\n"
   ]
  },
  {
   "cell_type": "code",
   "execution_count": 76,
   "id": "454472cd",
   "metadata": {},
   "outputs": [
    {
     "data": {
      "text/plain": [
       "['REQUEIJAO TIROLEZ  CREMOSO 200GR',\n",
       " 'FP PAO LEITINHO KG',\n",
       " 'CHIPA MINNAS KG',\n",
       " 'FP PAO LEITE KG',\n",
       " 'PAO QUEIJO SABOR  MINAS 1KG',\n",
       " 'MORTADELA SEARA DEFUMADA KG BANDEJA']"
      ]
     },
     "execution_count": 76,
     "metadata": {},
     "output_type": "execute_result"
    }
   ],
   "source": [
    "nomes_produtos"
   ]
  },
  {
   "cell_type": "code",
   "execution_count": 81,
   "id": "0364e989",
   "metadata": {},
   "outputs": [
    {
     "data": {
      "text/plain": [
       "['Qtde.:1',\n",
       " 'Qtde.:0,276',\n",
       " 'Qtde.:0,248',\n",
       " 'Qtde.:0,138',\n",
       " 'Qtde.:1',\n",
       " 'Qtde.:0,12']"
      ]
     },
     "execution_count": 81,
     "metadata": {},
     "output_type": "execute_result"
    }
   ],
   "source": [
    "quantidade = soup.find_all('span', class_='Rqtd')\n",
    "\n",
    "quantidade_comprada = [p.get_text(strip=True) for p in quantidade]\n",
    "quantidade_comprada "
   ]
  },
  {
   "cell_type": "code",
   "execution_count": 83,
   "id": "c3351414",
   "metadata": {},
   "outputs": [
    {
     "data": {
      "text/plain": [
       "['UN:UN0001', 'UN:KG0001', 'UN:KG0001', 'UN:KG0001', 'UN:UN0001', 'UN:KG0001']"
      ]
     },
     "execution_count": 83,
     "metadata": {},
     "output_type": "execute_result"
    }
   ],
   "source": [
    "unidade = soup.find_all('span', class_='RUN')\n",
    "\n",
    "unidade_produto = [p.get_text(strip=True)for p in unidade]\n",
    "unidade_produto"
   ]
  },
  {
   "cell_type": "code",
   "execution_count": 85,
   "id": "37e9711c",
   "metadata": {},
   "outputs": [
    {
     "data": {
      "text/plain": [
       "['Vl. Unit.:11,99',\n",
       " 'Vl. Unit.:39,891304',\n",
       " 'Vl. Unit.:39,919355',\n",
       " 'Vl. Unit.:19,927536',\n",
       " 'Vl. Unit.:19,9',\n",
       " 'Vl. Unit.:28,916667']"
      ]
     },
     "execution_count": 85,
     "metadata": {},
     "output_type": "execute_result"
    }
   ],
   "source": [
    "valor_unitario = soup.find_all('span',class_='RvlUnit')\n",
    "\n",
    "vl_unitario = [p.get_text(strip=True) for p in valor_unitario]\n",
    "vl_unitario"
   ]
  },
  {
   "cell_type": "code",
   "execution_count": 90,
   "id": "0a39e3d7",
   "metadata": {},
   "outputs": [
    {
     "data": {
      "text/plain": [
       "['Vl. Total11,99',\n",
       " 'Vl. Total11,01',\n",
       " 'Vl. Total9,90',\n",
       " 'Vl. Total2,75',\n",
       " 'Vl. Total19,90',\n",
       " 'Vl. Total3,47']"
      ]
     },
     "execution_count": 90,
     "metadata": {},
     "output_type": "execute_result"
    }
   ],
   "source": [
    "valor_total = soup.find_all('td',class_='txtTit noWrap')\n",
    "\n",
    "vl_total = [p.get_text(strip=True) for p in valor_total]\n",
    "\n",
    "vl_total"
   ]
  },
  {
   "cell_type": "code",
   "execution_count": null,
   "id": "dbf24993",
   "metadata": {},
   "outputs": [],
   "source": []
  }
 ],
 "metadata": {
  "kernelspec": {
   "display_name": "base",
   "language": "python",
   "name": "python3"
  },
  "language_info": {
   "codemirror_mode": {
    "name": "ipython",
    "version": 3
   },
   "file_extension": ".py",
   "mimetype": "text/x-python",
   "name": "python",
   "nbconvert_exporter": "python",
   "pygments_lexer": "ipython3",
   "version": "3.13.5"
  }
 },
 "nbformat": 4,
 "nbformat_minor": 5
}
