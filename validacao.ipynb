{
 "cells": [
  {
   "cell_type": "markdown",
   "id": "7142f980",
   "metadata": {},
   "source": [
    "## Etapa atual\n",
    "- **Validação da ideia**: criação de MVP manual para comparação de preços.  \n",
    "- **Criação de base inicial**: coletar dados de algumas notas fiscais ou produtos.  \n",
    "- **Objetivo desta etapa**: ter **uma base inicial de preços** para análises e comparativos.\n",
    "\n",
    "##  Estrutura para etapa atual\n",
    "1. Criar **script para raspar dados das notas fiscais**:  \n",
    "   - Extrair: produto, preço, mercado, data.  \n",
    "2. Alimentar **planilha ou banco de dados simples** (CSV / Google Sheets / SQLite).  \n",
    "3. Fazer **comparativo de preços iniciais** usando esses dados.  \n",
    "4. Validar se o MVP manual fornece resultados confiáveis antes de automatizar scraping de sites ou QR Codes.\n"
   ]
  },
  {
   "cell_type": "code",
   "execution_count": 6,
   "id": "0986e877",
   "metadata": {},
   "outputs": [],
   "source": [
    "import requests\n",
    "from bs4 import BeautifulSoup"
   ]
  },
  {
   "cell_type": "code",
   "execution_count": 21,
   "id": "114e43d0",
   "metadata": {},
   "outputs": [],
   "source": [
    "response = requests.get(\"https://www.nfce.fazenda.sp.gov.br/NFCeConsultaPublica/Paginas/ConsultaQRCode.aspx?p=35250944914620000101651020000029821102030260|2|1|1|7CEABA67901306C7669AF902F102EC944F682413\")\n",
    "\n",
    "html = response.text\n",
    "\n",
    "soup = BeautifulSoup(html, 'html.parser')"
   ]
  },
  {
   "cell_type": "code",
   "execution_count": 22,
   "id": "554b16a9",
   "metadata": {},
   "outputs": [],
   "source": [
    "paragrafos = soup.find_all('p')"
   ]
  },
  {
   "cell_type": "code",
   "execution_count": 28,
   "id": "603c0b1c",
   "metadata": {},
   "outputs": [],
   "source": [
    "div_id = soup.find('div', id='u20')"
   ]
  },
  {
   "cell_type": "code",
   "execution_count": 29,
   "id": "8e3a8880",
   "metadata": {},
   "outputs": [
    {
     "data": {
      "text/plain": [
       "<div class=\"txtTopo\" id=\"u20\">MERCADO JARDIM ZAIRA LTDA</div>"
      ]
     },
     "execution_count": 29,
     "metadata": {},
     "output_type": "execute_result"
    }
   ],
   "source": [
    "div_id"
   ]
  },
  {
   "cell_type": "code",
   "execution_count": 43,
   "id": "87cb9b52",
   "metadata": {},
   "outputs": [
    {
     "name": "stdout",
     "output_type": "stream",
     "text": [
      "<span class=\"txtTit\">REQUEIJAO TIROLEZ  CREMOSO 200GR</span>\n"
     ]
    }
   ],
   "source": [
    "nome_produto = soup.find('span', class_='txtTit')\n",
    "\n",
    "print(nome_produto)"
   ]
  },
  {
   "cell_type": "code",
   "execution_count": 42,
   "id": "6b532723",
   "metadata": {},
   "outputs": [
    {
     "name": "stdout",
     "output_type": "stream",
     "text": [
      "<span class=\"Rqtd\">\n",
      "<strong>Qtde.:</strong>1</span>\n"
     ]
    }
   ],
   "source": [
    "qtd_comprada = soup.find('span', class_='Rqtd')\n",
    "\n",
    "print(qtd_comprada)"
   ]
  },
  {
   "cell_type": "code",
   "execution_count": 45,
   "id": "454472cd",
   "metadata": {},
   "outputs": [
    {
     "name": "stdout",
     "output_type": "stream",
     "text": [
      "<span class=\"RUN\">\n",
      "<strong>UN: </strong>UN0001</span>\n"
     ]
    }
   ],
   "source": [
    "unidade= soup.find('span', class_='RUN')\n",
    "\n",
    "print(unidade)"
   ]
  },
  {
   "cell_type": "code",
   "execution_count": null,
   "id": "0364e989",
   "metadata": {},
   "outputs": [],
   "source": []
  }
 ],
 "metadata": {
  "kernelspec": {
   "display_name": "base",
   "language": "python",
   "name": "python3"
  },
  "language_info": {
   "codemirror_mode": {
    "name": "ipython",
    "version": 3
   },
   "file_extension": ".py",
   "mimetype": "text/x-python",
   "name": "python",
   "nbconvert_exporter": "python",
   "pygments_lexer": "ipython3",
   "version": "3.13.5"
  }
 },
 "nbformat": 4,
 "nbformat_minor": 5
}
