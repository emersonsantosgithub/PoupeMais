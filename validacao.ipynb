{
 "cells": [
  {
   "cell_type": "markdown",
   "id": "7142f980",
   "metadata": {},
   "source": [
    "## Etapa atual\n",
    "- **Validação da ideia**: criação de MVP manual para comparação de preços.  \n",
    "- **Criação de base inicial**: coletar dados de algumas notas fiscais ou produtos.  \n",
    "- **Objetivo desta etapa**: ter **uma base inicial de preços** para análises e comparativos.\n",
    "\n",
    "##  Estrutura para etapa atual\n",
    "1. Criar **script para raspar dados das notas fiscais**:  \n",
    "   - Extrair: produto, preço, mercado, data.  \n",
    "2. Alimentar **planilha ou banco de dados simples** (CSV / Google Sheets / SQLite).  \n",
    "3. Fazer **comparativo de preços iniciais** usando esses dados.  \n",
    "4. Validar se o MVP manual fornece resultados confiáveis antes de automatizar scraping de sites ou QR Codes.\n"
   ]
  },
  {
   "cell_type": "code",
   "execution_count": 131,
   "id": "0986e877",
   "metadata": {},
   "outputs": [],
   "source": [
    "import requests\n",
    "from bs4 import BeautifulSoup\n",
    "import pandas as pd"
   ]
  },
  {
   "cell_type": "code",
   "execution_count": 135,
   "id": "114e43d0",
   "metadata": {},
   "outputs": [],
   "source": [
    "url = \"https://www.nfce.fazenda.sp.gov.br/NFCeConsultaPublica/Paginas/ConsultaQRCode.aspx?p=35250944914620000101651070000018431107018733|2|1|1|6D1F127B092ACFC5A9130DD51D27B2DA25F4B2A7\"\n",
    "\n",
    "response = requests.get(url)\n",
    "\n",
    "html = response.text\n",
    "\n",
    "soup = BeautifulSoup(html, 'html.parser')"
   ]
  },
  {
   "cell_type": "code",
   "execution_count": 136,
   "id": "87cb9b52",
   "metadata": {},
   "outputs": [
    {
     "data": {
      "text/plain": [
       "['CALDO SEARA 300GR VERDE CALABRESA',\n",
       " 'CALDO SEARA 300GR MANDIOQUINHA FRANGO',\n",
       " 'SEARA NETFLIX 245GR MINI HOT DOG COREANO',\n",
       " 'CHOCOLATE SNICKERS 42GR DARK',\n",
       " 'CHOCOLATE SNICKERS 45GR',\n",
       " 'REFRIG COCA COLA PET 2L']"
      ]
     },
     "execution_count": 136,
     "metadata": {},
     "output_type": "execute_result"
    }
   ],
   "source": [
    "nome_produto = soup.find_all('span', class_='txtTit')\n",
    "\n",
    "nomes_produtos = [p.get_text(strip=True) for p in nome_produto]\n",
    "\n",
    "nomes_produtos\n"
   ]
  },
  {
   "cell_type": "code",
   "execution_count": 137,
   "id": "0364e989",
   "metadata": {},
   "outputs": [
    {
     "data": {
      "text/plain": [
       "['1', '1', '1', '1', '1', '1']"
      ]
     },
     "execution_count": 137,
     "metadata": {},
     "output_type": "execute_result"
    }
   ],
   "source": [
    "quantidade = soup.find_all('span', class_='Rqtd')\n",
    "\n",
    "quantidade_comprada = [p.get_text(strip=True).replace(\"Qtde.:\", \"\") for p in quantidade]\n",
    "\n",
    "quantidade_comprada"
   ]
  },
  {
   "cell_type": "code",
   "execution_count": 138,
   "id": "c3351414",
   "metadata": {},
   "outputs": [],
   "source": [
    "unidade = soup.find_all('span', class_='RUN')\n",
    "\n",
    "unidade_produto = [p.get_text(strip=True).replace(\"UN:\", \"\")for p in unidade]"
   ]
  },
  {
   "cell_type": "code",
   "execution_count": 139,
   "id": "37e9711c",
   "metadata": {},
   "outputs": [
    {
     "data": {
      "text/plain": [
       "['17,99', '17,99', '18,99', '5,99', '5,99', '10,99']"
      ]
     },
     "execution_count": 139,
     "metadata": {},
     "output_type": "execute_result"
    }
   ],
   "source": [
    "valor_unitario = soup.find_all('span',class_='RvlUnit')\n",
    "\n",
    "vl_unitario = [p.get_text(strip=True).replace(\"Vl. Unit.:\", \"\") for p in valor_unitario]\n",
    "vl_unitario"
   ]
  },
  {
   "cell_type": "code",
   "execution_count": 140,
   "id": "0a39e3d7",
   "metadata": {},
   "outputs": [
    {
     "data": {
      "text/plain": [
       "['17,99', '17,99', '18,99', '5,99', '5,99', '10,99']"
      ]
     },
     "execution_count": 140,
     "metadata": {},
     "output_type": "execute_result"
    }
   ],
   "source": [
    "valor_total = soup.find_all('td',class_='txtTit noWrap')\n",
    "\n",
    "vl_total = [p.get_text(strip=True).replace(\"Vl. Total\", \"\") for p in valor_total]\n",
    "\n",
    "vl_total"
   ]
  },
  {
   "cell_type": "code",
   "execution_count": 141,
   "id": "6aa78428",
   "metadata": {},
   "outputs": [
    {
     "data": {
      "text/html": [
       "<div>\n",
       "<style scoped>\n",
       "    .dataframe tbody tr th:only-of-type {\n",
       "        vertical-align: middle;\n",
       "    }\n",
       "\n",
       "    .dataframe tbody tr th {\n",
       "        vertical-align: top;\n",
       "    }\n",
       "\n",
       "    .dataframe thead th {\n",
       "        text-align: right;\n",
       "    }\n",
       "</style>\n",
       "<table border=\"1\" class=\"dataframe\">\n",
       "  <thead>\n",
       "    <tr style=\"text-align: right;\">\n",
       "      <th></th>\n",
       "      <th>Produto</th>\n",
       "      <th>Qtde</th>\n",
       "      <th>UN</th>\n",
       "      <th>Vl. Unit.</th>\n",
       "      <th>Vl. Total</th>\n",
       "    </tr>\n",
       "  </thead>\n",
       "  <tbody>\n",
       "    <tr>\n",
       "      <th>0</th>\n",
       "      <td>CALDO SEARA 300GR VERDE CALABRESA</td>\n",
       "      <td>1</td>\n",
       "      <td>UN0001</td>\n",
       "      <td>17,99</td>\n",
       "      <td>17,99</td>\n",
       "    </tr>\n",
       "    <tr>\n",
       "      <th>1</th>\n",
       "      <td>CALDO SEARA 300GR MANDIOQUINHA FRANGO</td>\n",
       "      <td>1</td>\n",
       "      <td>UN0001</td>\n",
       "      <td>17,99</td>\n",
       "      <td>17,99</td>\n",
       "    </tr>\n",
       "    <tr>\n",
       "      <th>2</th>\n",
       "      <td>SEARA NETFLIX 245GR MINI HOT DOG COREANO</td>\n",
       "      <td>1</td>\n",
       "      <td>UN0001</td>\n",
       "      <td>18,99</td>\n",
       "      <td>18,99</td>\n",
       "    </tr>\n",
       "    <tr>\n",
       "      <th>3</th>\n",
       "      <td>CHOCOLATE SNICKERS 42GR DARK</td>\n",
       "      <td>1</td>\n",
       "      <td>UN0001</td>\n",
       "      <td>5,99</td>\n",
       "      <td>5,99</td>\n",
       "    </tr>\n",
       "    <tr>\n",
       "      <th>4</th>\n",
       "      <td>CHOCOLATE SNICKERS 45GR</td>\n",
       "      <td>1</td>\n",
       "      <td>UN0001</td>\n",
       "      <td>5,99</td>\n",
       "      <td>5,99</td>\n",
       "    </tr>\n",
       "    <tr>\n",
       "      <th>5</th>\n",
       "      <td>REFRIG COCA COLA PET 2L</td>\n",
       "      <td>1</td>\n",
       "      <td>UN0001</td>\n",
       "      <td>10,99</td>\n",
       "      <td>10,99</td>\n",
       "    </tr>\n",
       "  </tbody>\n",
       "</table>\n",
       "</div>"
      ],
      "text/plain": [
       "                                    Produto Qtde      UN Vl. Unit. Vl. Total\n",
       "0         CALDO SEARA 300GR VERDE CALABRESA    1  UN0001     17,99     17,99\n",
       "1     CALDO SEARA 300GR MANDIOQUINHA FRANGO    1  UN0001     17,99     17,99\n",
       "2  SEARA NETFLIX 245GR MINI HOT DOG COREANO    1  UN0001     18,99     18,99\n",
       "3              CHOCOLATE SNICKERS 42GR DARK    1  UN0001      5,99      5,99\n",
       "4                   CHOCOLATE SNICKERS 45GR    1  UN0001      5,99      5,99\n",
       "5                   REFRIG COCA COLA PET 2L    1  UN0001     10,99     10,99"
      ]
     },
     "execution_count": 141,
     "metadata": {},
     "output_type": "execute_result"
    }
   ],
   "source": [
    "import pandas as pd\n",
    "\n",
    "dados_dicionario = {\n",
    "     'Produto': nomes_produtos,\n",
    "     'Qtde': quantidade_comprada,\n",
    "     'UN': unidade_produto,\n",
    "     'Vl. Unit.':vl_unitario,\n",
    "     'Vl. Total': vl_total\n",
    "\n",
    "}\n",
    "df = pd.DataFrame(dados_dicionario)\n",
    "df"
   ]
  },
  {
   "cell_type": "code",
   "execution_count": 142,
   "id": "b71f7ed4",
   "metadata": {},
   "outputs": [],
   "source": [
    "df['Vl. Total'] = df['Vl. Total'].str.replace(\",\", \".\").astype(float)"
   ]
  },
  {
   "cell_type": "code",
   "execution_count": 147,
   "id": "74eb9394",
   "metadata": {},
   "outputs": [
    {
     "name": "stdout",
     "output_type": "stream",
     "text": [
      "12.99\n"
     ]
    }
   ],
   "source": [
    "total = df['Vl. Total'].mean().round(2)\n",
    "\n",
    "print(total)"
   ]
  },
  {
   "cell_type": "code",
   "execution_count": null,
   "id": "44ec2299",
   "metadata": {},
   "outputs": [],
   "source": []
  }
 ],
 "metadata": {
  "kernelspec": {
   "display_name": "base",
   "language": "python",
   "name": "python3"
  },
  "language_info": {
   "codemirror_mode": {
    "name": "ipython",
    "version": 3
   },
   "file_extension": ".py",
   "mimetype": "text/x-python",
   "name": "python",
   "nbconvert_exporter": "python",
   "pygments_lexer": "ipython3",
   "version": "3.13.5"
  }
 },
 "nbformat": 4,
 "nbformat_minor": 5
}
