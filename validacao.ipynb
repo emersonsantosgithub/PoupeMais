{
 "cells": [
  {
   "cell_type": "markdown",
   "id": "7142f980",
   "metadata": {},
   "source": [
    "## Etapa atual\n",
    "- **Validação da ideia**: criação de MVP manual para comparação de preços.  \n",
    "- **Criação de base inicial**: coletar dados de algumas notas fiscais ou produtos.  \n",
    "- **Objetivo desta etapa**: ter **uma base inicial de preços** para análises e comparativos.\n",
    "\n",
    "##  Estrutura para etapa atual\n",
    "1. Criar **script para raspar dados das notas fiscais**:  \n",
    "   - Extrair: produto, preço, mercado, data.  \n",
    "2. Alimentar **planilha ou banco de dados simples** (CSV / Google Sheets / SQLite).  \n",
    "3. Fazer **comparativo de preços iniciais** usando esses dados.  \n",
    "4. Validar se o MVP manual fornece resultados confiáveis antes de automatizar scraping de sites ou QR Codes.\n"
   ]
  },
  {
   "cell_type": "code",
   "execution_count": 148,
   "id": "0986e877",
   "metadata": {},
   "outputs": [],
   "source": [
    "import requests\n",
    "from bs4 import BeautifulSoup\n",
    "import pandas as pd"
   ]
  },
  {
   "cell_type": "code",
   "execution_count": 149,
   "id": "114e43d0",
   "metadata": {},
   "outputs": [],
   "source": [
    "url = \"https://www.nfce.fazenda.sp.gov.br/NFCeConsultaPublica/Paginas/ConsultaQRCode.aspx?p=35250944914620000101651070000018431107018733|2|1|1|6D1F127B092ACFC5A9130DD51D27B2DA25F4B2A7\"\n",
    "\n",
    "response = requests.get(url)\n",
    "\n",
    "html = response.text\n",
    "\n",
    "soup = BeautifulSoup(html, 'html.parser')"
   ]
  },
  {
   "cell_type": "code",
   "execution_count": null,
   "id": "cc5ed7c7",
   "metadata": {},
   "outputs": [
    {
     "name": "stdout",
     "output_type": "stream",
     "text": [
      "['CALDO SEARA 300GR VERDE CALABRESA', 'CALDO SEARA 300GR MANDIOQUINHA FRANGO', 'SEARA NETFLIX 245GR MINI HOT DOG COREANO', 'CHOCOLATE SNICKERS 42GR DARK', 'CHOCOLATE SNICKERS 45GR', 'REFRIG COCA COLA PET 2L']\n"
     ]
    }
   ],
   "source": [
    "def cadastro_nome_produto(dados):\n",
    "\n",
    "    tit_produto = soup.find_all('span', class_='txtTit')\n",
    "\n",
    "    nomes_produtos = [p.get_text(strip=True) for p in tit_produto]\n",
    "\n",
    "cadastro_nome_produto(soup)\n",
    "\n",
    "\n",
    "def cadastro_quantidade_comprada(dados):\n",
    "    \n",
    "    quantidade = soup.find_all('span', class_='Rqtd')\n",
    "\n",
    "    quantidade_comprada = [p.get_text(strip=True).replace(\"Qtde.:\", \"\") for p in quantidade]\n",
    "\n",
    "cadastro_quantidade_comprada(soup)"
   ]
  },
  {
   "cell_type": "code",
   "execution_count": null,
   "id": "638bfb5b",
   "metadata": {},
   "outputs": [],
   "source": []
  },
  {
   "cell_type": "code",
   "execution_count": 155,
   "id": "b2f2f181",
   "metadata": {},
   "outputs": [
    {
     "ename": "NameError",
     "evalue": "name 'textos' is not defined",
     "output_type": "error",
     "traceback": [
      "\u001b[31m---------------------------------------------------------------------------\u001b[39m",
      "\u001b[31mNameError\u001b[39m                                 Traceback (most recent call last)",
      "\u001b[36mCell\u001b[39m\u001b[36m \u001b[39m\u001b[32mIn[155]\u001b[39m\u001b[32m, line 1\u001b[39m\n\u001b[32m----> \u001b[39m\u001b[32m1\u001b[39m \u001b[43mtextos\u001b[49m \n",
      "\u001b[31mNameError\u001b[39m: name 'textos' is not defined"
     ]
    }
   ],
   "source": [
    "textos "
   ]
  },
  {
   "cell_type": "code",
   "execution_count": null,
   "id": "87cb9b52",
   "metadata": {},
   "outputs": [],
   "source": [
    "nome_produto = soup.find_all('span', class_='txtTit')\n",
    "\n",
    "nomes_produtos = [p.get_text(strip=True) for p in nome_produto]\n",
    "\n",
    "nomes_produtos\n"
   ]
  },
  {
   "cell_type": "code",
   "execution_count": null,
   "id": "0364e989",
   "metadata": {},
   "outputs": [],
   "source": [
    "quantidade = soup.find_all('span', class_='Rqtd')\n",
    "\n",
    "quantidade_comprada = [p.get_text(strip=True).replace(\"Qtde.:\", \"\") for p in quantidade]\n",
    "\n",
    "quantidade_comprada"
   ]
  },
  {
   "cell_type": "code",
   "execution_count": null,
   "id": "c3351414",
   "metadata": {},
   "outputs": [],
   "source": [
    "unidade = soup.find_all('span', class_='RUN')\n",
    "\n",
    "unidade_produto = [p.get_text(strip=True).replace(\"UN:\", \"\")for p in unidade]"
   ]
  },
  {
   "cell_type": "code",
   "execution_count": null,
   "id": "37e9711c",
   "metadata": {},
   "outputs": [],
   "source": [
    "valor_unitario = soup.find_all('span',class_='RvlUnit')\n",
    "\n",
    "vl_unitario = [p.get_text(strip=True).replace(\"Vl. Unit.:\", \"\") for p in valor_unitario]\n",
    "vl_unitario"
   ]
  },
  {
   "cell_type": "code",
   "execution_count": null,
   "id": "0a39e3d7",
   "metadata": {},
   "outputs": [],
   "source": [
    "valor_total = soup.find_all('td',class_='txtTit noWrap')\n",
    "\n",
    "vl_total = [p.get_text(strip=True).replace(\"Vl. Total\", \"\") for p in valor_total]\n",
    "\n",
    "vl_total"
   ]
  },
  {
   "cell_type": "code",
   "execution_count": null,
   "id": "6aa78428",
   "metadata": {},
   "outputs": [],
   "source": [
    "import pandas as pd\n",
    "\n",
    "dados_dicionario = {\n",
    "     'Produto': nomes_produtos,\n",
    "     'Qtde': quantidade_comprada,\n",
    "     'UN': unidade_produto,\n",
    "     'Vl. Unit.':vl_unitario,\n",
    "     'Vl. Total': vl_total\n",
    "\n",
    "}\n",
    "df = pd.DataFrame(dados_dicionario)\n",
    "df"
   ]
  },
  {
   "cell_type": "code",
   "execution_count": null,
   "id": "b71f7ed4",
   "metadata": {},
   "outputs": [],
   "source": [
    "df['Vl. Total'] = df['Vl. Total'].str.replace(\",\", \".\").astype(float)"
   ]
  },
  {
   "cell_type": "code",
   "execution_count": null,
   "id": "74eb9394",
   "metadata": {},
   "outputs": [],
   "source": [
    "total = df['Vl. Total'].mean().round(2)\n",
    "\n",
    "print(total)"
   ]
  },
  {
   "cell_type": "code",
   "execution_count": null,
   "id": "44ec2299",
   "metadata": {},
   "outputs": [],
   "source": []
  }
 ],
 "metadata": {
  "kernelspec": {
   "display_name": "base",
   "language": "python",
   "name": "python3"
  },
  "language_info": {
   "codemirror_mode": {
    "name": "ipython",
    "version": 3
   },
   "file_extension": ".py",
   "mimetype": "text/x-python",
   "name": "python",
   "nbconvert_exporter": "python",
   "pygments_lexer": "ipython3",
   "version": "3.13.5"
  }
 },
 "nbformat": 4,
 "nbformat_minor": 5
}
