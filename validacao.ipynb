{
 "cells": [
  {
   "cell_type": "markdown",
   "id": "7142f980",
   "metadata": {},
   "source": [
    "## Etapa atual\n",
    "- **Validação da ideia**: criação de MVP manual para comparação de preços.  \n",
    "- **Criação de base inicial**: coletar dados de algumas notas fiscais ou produtos.  \n",
    "- **Objetivo desta etapa**: ter **uma base inicial de preços** para análises e comparativos.\n",
    "\n",
    "##  Estrutura para etapa atual\n",
    "1. Criar **script para raspar dados das notas fiscais**:  \n",
    "   - Extrair: produto, preço, mercado, data.  \n",
    "2. Alimentar **planilha ou banco de dados simples** (CSV / Google Sheets / SQLite).  \n",
    "3. Fazer **comparativo de preços iniciais** usando esses dados.  \n",
    "4. Validar se o MVP manual fornece resultados confiáveis antes de automatizar scraping de sites ou QR Codes.\n"
   ]
  },
  {
   "cell_type": "code",
   "execution_count": 1,
   "id": "0986e877",
   "metadata": {},
   "outputs": [],
   "source": [
    "import requests\n",
    "from bs4 import BeautifulSoup\n",
    "import pandas as pd"
   ]
  },
  {
   "cell_type": "code",
   "execution_count": 15,
   "id": "114e43d0",
   "metadata": {},
   "outputs": [],
   "source": [
    "url = \"https://www.nfce.fazenda.sp.gov.br/NFCeConsultaPublica/Paginas/ConsultaQRCode.aspx?p=35250944914620000101651070000018431107018733|2|1|1|6D1F127B092ACFC5A9130DD51D27B2DA25F4B2A7\"\n",
    "\n",
    "response = requests.get(url)\n",
    "\n",
    "html = response.text\n",
    "\n",
    "soup = BeautifulSoup(html, 'html.parser')"
   ]
  },
  {
   "cell_type": "code",
   "execution_count": 93,
   "id": "cc5ed7c7",
   "metadata": {},
   "outputs": [],
   "source": [
    "def cadastro_nome_produto(dados):\n",
    "    tit_produto = dados.find_all('span', class_='txtTit')\n",
    "    nomes_produtos = [p.get_text(strip=True) for p in tit_produto]\n",
    "    return nomes_produtos\n",
    "\n",
    "def cadastro_quantidade_comprada(dados):\n",
    "    quantidade = dados.find_all('span', class_='Rqtd')\n",
    "    quantidade_comprada = [p.get_text(strip=True).replace(\"Qtde.:\", \"\") for p in quantidade]\n",
    "    return quantidade_comprada\n",
    "\n",
    "def cadastro_unidade_medida(dados):\n",
    "    unidade = dados.find_all('span', class_='RUN')\n",
    "    unidade_produto = [p.get_text(strip=True).replace(\"UN:\", \"\") for p in unidade]\n",
    "    return unidade_produto\n",
    "\n",
    "def cadastro_valor_unitario(dados):\n",
    "    valor_unitario = dados.find_all('span', class_='RvlUnit')\n",
    "    vl_unitario = [\n",
    "        p.get_text(strip=True).replace(\"Vl. Unit.:\", \"\").replace(\",\", \".\")\n",
    "        for p in valor_unitario\n",
    "    ]\n",
    "    return vl_unitario\n",
    "\n",
    "def cadastro_valor_total(dados):\n",
    "    valor_total = dados.find_all('td', class_='txtTit noWrap')\n",
    "    vl_total = [\n",
    "        p.get_text(strip=True).replace(\"Vl. Total\", \"\").replace(\",\", \".\")\n",
    "        for p in valor_total\n",
    "    ]\n",
    "    return vl_total\n",
    "\n",
    "def cadastro_nome_mercado(dados):\n",
    "    nome_empr = dados.find_all('div', class_='txtTopo')\n",
    "    nome_empresa = [p.get_text(strip=True) for p in nome_empr]\n",
    "    return nome_empresa\n",
    "\n",
    "def cadastro_cnpj_empresa(dados): \n",
    "    documento = dados.find_all('div', class_='text')\n",
    "    cnpjs = []\n",
    "    for p in documento:\n",
    "        texto = p.get_text(strip=True)\n",
    "        if \"CNPJ:\" in texto:  # garante que só pega o bloco do CNPJ\n",
    "            cnpjs.append(texto.replace(\"CNPJ:\", \"\").strip())\n",
    "    return cnpjs\n",
    "\n",
    "def cadastro_data_emissao(dados):\n",
    "    divs = dados.find_all('div', class_='text')\n",
    "    for div in divs:\n",
    "        texto = div.get_text(\" \", strip=True)\n",
    "        if \"Emissão:\" in texto:\n",
    "            # exemplo: \"Número: 1843 Série: 107 Emissão: 26/09/2025 19:46:00 - Via Consumidor\"\n",
    "            partes = texto.split(\"Emissão:\")\n",
    "            if len(partes) > 1:\n",
    "                data_emissao = partes[1].replace(\"- Via Consumidor\", \"\").strip()\n",
    "                return data_emissao\n",
    "    return None\n",
    "\n",
    "\n",
    "\n",
    "def cria_dataframe(dados):\n",
    "    # usa as funções que você já criou\n",
    "    cnpj = cadastro_cnpj_empresa(dados)\n",
    "    nome_empresa = cadastro_nome_mercado(dados)\n",
    "    nomes_produtos = cadastro_nome_produto(dados)\n",
    "    quantidade_comprada = cadastro_quantidade_comprada(dados)\n",
    "    unidade_produto = cadastro_unidade_medida(dados)\n",
    "    vl_unitario = cadastro_valor_unitario(dados)\n",
    "    vl_total = cadastro_valor_total(dados)\n",
    "    data_emissao = cadastro_data_emissao(dados)\n",
    "\n",
    "    # garante que os dados \"fixos\" repitam para cada produto\n",
    "    cnpj = [cnpj[0]] * len(nomes_produtos)\n",
    "    nome_empresa = [nome_empresa[0]] * len(nomes_produtos)\n",
    "    data_emissao = [data_emissao] * len(nomes_produtos)\n",
    "\n",
    "    # monta dicionário\n",
    "    dados_dicionario = {\n",
    "        'CNPJ': cnpj,\n",
    "        'Empresa': nome_empresa,\n",
    "        'Data Emissão': data_emissao,\n",
    "        'Produto': nomes_produtos,\n",
    "        'Qtde': quantidade_comprada,\n",
    "        'UN': unidade_produto,\n",
    "        'Vl. Unit.': vl_unitario,\n",
    "        'Vl. Total': vl_total\n",
    "    }\n",
    "\n",
    "    # cria dataframe\n",
    "    df = pd.DataFrame(dados_dicionario)\n",
    "\n",
    "    # converte valores numéricos\n",
    "    df['Qtde'] = df['Qtde'].str.replace(\",\", \".\").astype(float)\n",
    "    df['Vl. Unit.'] = df['Vl. Unit.'].astype(float)\n",
    "    df['Vl. Total'] = df['Vl. Total'].astype(float)\n",
    "\n",
    "    return df\n"
   ]
  },
  {
   "cell_type": "code",
   "execution_count": 104,
   "id": "d21065da",
   "metadata": {},
   "outputs": [],
   "source": [
    "divs = soup.find_all('strong', 'Emissão:')\n",
    "for div in divs:\n",
    "    print(div)"
   ]
  },
  {
   "cell_type": "code",
   "execution_count": 106,
   "id": "e8899a23",
   "metadata": {},
   "outputs": [
    {
     "data": {
      "text/plain": [
       "<div class=\"text\">AV PRES. CASTELO BRANCO\n",
       "\t\t\t\t\t\t\t,\n",
       "\t\t\t\t\t\t\t2415\n",
       "\t\t\t\t\t\t\t,\n",
       "\t\t\t\t\t\t\t\n",
       "\t\t\t\t\t\t\t,\n",
       "\t\t\t\t\t\t\tJARDIM ZAIRA\n",
       "\t\t\t\t\t\t\t,\n",
       "\t\t\t\t\t\t\tMAUA\n",
       "\t\t\t\t\t\t\t,\n",
       "\t\t\t\t\t\t\tSP</div>"
      ]
     },
     "execution_count": 106,
     "metadata": {},
     "output_type": "execute_result"
    }
   ],
   "source": [
    "div"
   ]
  },
  {
   "cell_type": "code",
   "execution_count": null,
   "id": "c9b9148a",
   "metadata": {},
   "outputs": [],
   "source": []
  }
 ],
 "metadata": {
  "kernelspec": {
   "display_name": "base",
   "language": "python",
   "name": "python3"
  },
  "language_info": {
   "codemirror_mode": {
    "name": "ipython",
    "version": 3
   },
   "file_extension": ".py",
   "mimetype": "text/x-python",
   "name": "python",
   "nbconvert_exporter": "python",
   "pygments_lexer": "ipython3",
   "version": "3.13.5"
  }
 },
 "nbformat": 4,
 "nbformat_minor": 5
}
